{
 "cells": [
  {
   "cell_type": "code",
   "execution_count": 1,
   "id": "4a7958b9-e4f1-47bc-a4cf-27314d53f710",
   "metadata": {},
   "outputs": [],
   "source": [
    "import pandas as pd\n",
    "import numpy as np\n",
    "from sklearn import preprocessing"
   ]
  },
  {
   "cell_type": "code",
   "execution_count": 2,
   "id": "e1316e2c-d4a1-49ff-82fc-4c62c6fcc8b3",
   "metadata": {},
   "outputs": [
    {
     "name": "stdout",
     "output_type": "stream",
     "text": [
      "CleanData.csv\t\tDataVis.ipynb\t\tLICENSE    TopluVeriler.csv\n",
      "CleanDataRegression.py\thomePriceRegression.py\tREADME.md\n"
     ]
    }
   ],
   "source": [
    "!ls"
   ]
  },
  {
   "cell_type": "code",
   "execution_count": 3,
   "id": "6cb4cb7e-a92d-4c66-b48d-9a16344aa43c",
   "metadata": {},
   "outputs": [],
   "source": [
    "metadata = pd.read_csv(\"CleanData.csv\")"
   ]
  },
  {
   "cell_type": "code",
   "execution_count": 5,
   "id": "692ad7d1-b2be-4a9a-8837-b2ecad67eb96",
   "metadata": {},
   "outputs": [
    {
     "data": {
      "text/plain": [
       "(20326, 9)"
      ]
     },
     "execution_count": 5,
     "metadata": {},
     "output_type": "execute_result"
    }
   ],
   "source": [
    "metadata.shape"
   ]
  },
  {
   "cell_type": "code",
   "execution_count": 8,
   "id": "7767ff38-0e18-439a-8943-500b3130ef83",
   "metadata": {},
   "outputs": [
    {
     "data": {
      "text/html": [
       "<div>\n",
       "<style scoped>\n",
       "    .dataframe tbody tr th:only-of-type {\n",
       "        vertical-align: middle;\n",
       "    }\n",
       "\n",
       "    .dataframe tbody tr th {\n",
       "        vertical-align: top;\n",
       "    }\n",
       "\n",
       "    .dataframe thead th {\n",
       "        text-align: right;\n",
       "    }\n",
       "</style>\n",
       "<table border=\"1\" class=\"dataframe\">\n",
       "  <thead>\n",
       "    <tr style=\"text-align: right;\">\n",
       "      <th></th>\n",
       "      <th>Unnamed: 0</th>\n",
       "      <th>fiyat</th>\n",
       "      <th>sehir</th>\n",
       "      <th>metrekare</th>\n",
       "      <th>Bulunduğu Kat</th>\n",
       "      <th>Oda Sayısı</th>\n",
       "      <th>Tür</th>\n",
       "      <th>Isıtma Tipi</th>\n",
       "      <th>Bina Yaş</th>\n",
       "    </tr>\n",
       "  </thead>\n",
       "  <tbody>\n",
       "    <tr>\n",
       "      <th>0</th>\n",
       "      <td>0</td>\n",
       "      <td>950000</td>\n",
       "      <td>adana</td>\n",
       "      <td>120</td>\n",
       "      <td>4.0</td>\n",
       "      <td>4.0</td>\n",
       "      <td>Konut</td>\n",
       "      <td>Kombi Doğalgaz</td>\n",
       "      <td>25.0</td>\n",
       "    </tr>\n",
       "    <tr>\n",
       "      <th>1</th>\n",
       "      <td>1</td>\n",
       "      <td>1250000</td>\n",
       "      <td>adana</td>\n",
       "      <td>100</td>\n",
       "      <td>3.0</td>\n",
       "      <td>4.0</td>\n",
       "      <td>Konut</td>\n",
       "      <td>Kombi Doğalgaz</td>\n",
       "      <td>4.0</td>\n",
       "    </tr>\n",
       "    <tr>\n",
       "      <th>2</th>\n",
       "      <td>2</td>\n",
       "      <td>1750000</td>\n",
       "      <td>adana</td>\n",
       "      <td>89</td>\n",
       "      <td>4.0</td>\n",
       "      <td>3.0</td>\n",
       "      <td>Konut</td>\n",
       "      <td>Kombi Doğalgaz</td>\n",
       "      <td>0.0</td>\n",
       "    </tr>\n",
       "    <tr>\n",
       "      <th>3</th>\n",
       "      <td>3</td>\n",
       "      <td>1300000</td>\n",
       "      <td>adana</td>\n",
       "      <td>40</td>\n",
       "      <td>6.0</td>\n",
       "      <td>2.0</td>\n",
       "      <td>Konut</td>\n",
       "      <td>Kombi Doğalgaz</td>\n",
       "      <td>0.0</td>\n",
       "    </tr>\n",
       "    <tr>\n",
       "      <th>4</th>\n",
       "      <td>4</td>\n",
       "      <td>1700000</td>\n",
       "      <td>adana</td>\n",
       "      <td>140</td>\n",
       "      <td>1.0</td>\n",
       "      <td>4.0</td>\n",
       "      <td>Konut</td>\n",
       "      <td>Klimalı</td>\n",
       "      <td>7.0</td>\n",
       "    </tr>\n",
       "  </tbody>\n",
       "</table>\n",
       "</div>"
      ],
      "text/plain": [
       "   Unnamed: 0    fiyat  sehir  metrekare  Bulunduğu Kat  Oda Sayısı    Tür  \\\n",
       "0           0   950000  adana        120            4.0         4.0  Konut   \n",
       "1           1  1250000  adana        100            3.0         4.0  Konut   \n",
       "2           2  1750000  adana         89            4.0         3.0  Konut   \n",
       "3           3  1300000  adana         40            6.0         2.0  Konut   \n",
       "4           4  1700000  adana        140            1.0         4.0  Konut   \n",
       "\n",
       "      Isıtma Tipi  Bina Yaş  \n",
       "0  Kombi Doğalgaz      25.0  \n",
       "1  Kombi Doğalgaz       4.0  \n",
       "2  Kombi Doğalgaz       0.0  \n",
       "3  Kombi Doğalgaz       0.0  \n",
       "4         Klimalı       7.0  "
      ]
     },
     "execution_count": 8,
     "metadata": {},
     "output_type": "execute_result"
    }
   ],
   "source": [
    "metadata.head()"
   ]
  },
  {
   "cell_type": "code",
   "execution_count": 7,
   "id": "e61616ec-4267-4b6f-b5f3-6a3a9830b31e",
   "metadata": {},
   "outputs": [],
   "source": [
    "df = pd.DataFrame(metadata)"
   ]
  },
  {
   "cell_type": "code",
   "execution_count": 31,
   "id": "ac69b630-a311-461a-9702-d7ef7d5c22af",
   "metadata": {},
   "outputs": [],
   "source": [
    "# Data İnceleme için oluşturulan basit fonksiyon\n",
    "def data_info(ColumnName):\n",
    "    print(\"Sütundaki benzersiz değerler :\")\n",
    "    uniqe = df[str(ColumnName)].unique()\n",
    "    print(uniqe)\n",
    "    print(\"##############################\")\n",
    "    print(\"Sütundaki benzersiz kaç adet değer bulunuyor :\")\n",
    "    print(uniqe.shape)\n",
    "    print(\"##############################\")\n",
    "    print(\"Her bir değer kaç kez tekrarlıyor :\")\n",
    "    print(df[str(ColumnName)].value_counts())"
   ]
  },
  {
   "cell_type": "code",
   "execution_count": 32,
   "id": "a2fafa73-c331-4516-96a9-1714326081ad",
   "metadata": {
    "scrolled": true
   },
   "outputs": [
    {
     "name": "stdout",
     "output_type": "stream",
     "text": [
      "Sütundaki benzersiz değerler :\n",
      "['adana' 'adiyaman' 'afyonkarahisar' 'agri' 'aksaray' 'amasya' 'ankara'\n",
      " 'antalya' 'ardahan' 'artvin' 'aydin' 'balikesir' 'bartin' 'batman'\n",
      " 'bayburt' 'bilecik' 'bingol' 'bitlis' 'bolu' 'burdur' 'bursa' 'canakkale'\n",
      " 'cankiri' 'corum' 'denizli' 'diyarbakir' 'duzce' 'edirne' 'elazig'\n",
      " 'erzincan' 'erzurum' 'eskisehir' 'gaziantep' 'giresun' 'gumushane'\n",
      " 'hakkari' 'hatay' 'igdir' 'isparta' 'istanbul' 'izmir' 'kahramanmaras'\n",
      " 'karabuk' 'karaman' 'kars' 'kastamonu' 'kayseri' 'kilis' 'kirikkale'\n",
      " 'kirklareli' 'kirsehir' 'kocaeli' 'konya']\n",
      "##############################\n",
      "Sütundaki benzersiz kaç adet değer bulunuyor :\n",
      "(53,)\n",
      "##############################\n",
      "Her bir değer kaç kez tekrarlıyor :\n",
      "sehir\n",
      "antalya           1450\n",
      "adana             1449\n",
      "denizli           1449\n",
      "diyarbakir        1449\n",
      "gaziantep         1446\n",
      "kocaeli           1325\n",
      "canakkale          954\n",
      "eskisehir          947\n",
      "bursa              847\n",
      "kirklareli         659\n",
      "corum              640\n",
      "balikesir          545\n",
      "afyonkarahisar     507\n",
      "edirne             497\n",
      "giresun            484\n",
      "kayseri            478\n",
      "hatay              446\n",
      "izmir              385\n",
      "duzce              366\n",
      "elazig             358\n",
      "kilis              332\n",
      "batman             326\n",
      "bolu               325\n",
      "kahramanmaras      287\n",
      "isparta            250\n",
      "kars               215\n",
      "burdur             214\n",
      "amasya             208\n",
      "kirikkale          167\n",
      "bartin             146\n",
      "kastamonu          143\n",
      "erzurum            125\n",
      "karabuk            121\n",
      "adiyaman           116\n",
      "konya              107\n",
      "aksaray            106\n",
      "karaman            104\n",
      "bilecik             93\n",
      "aydin               59\n",
      "bayburt             46\n",
      "gumushane           31\n",
      "erzincan            29\n",
      "kirsehir            25\n",
      "cankiri             17\n",
      "igdir               12\n",
      "bitlis              10\n",
      "ardahan              8\n",
      "istanbul             8\n",
      "artvin               5\n",
      "bingol               4\n",
      "agri                 4\n",
      "ankara               1\n",
      "hakkari              1\n",
      "Name: count, dtype: int64\n"
     ]
    }
   ],
   "source": [
    "data_info(\"sehir\")"
   ]
  },
  {
   "cell_type": "code",
   "execution_count": 33,
   "id": "b70fd3c7-1f5e-485a-b578-e2a5a80350f3",
   "metadata": {
    "scrolled": true
   },
   "outputs": [
    {
     "name": "stdout",
     "output_type": "stream",
     "text": [
      "Sütundaki benzersiz değerler :\n",
      "[120 100  89  40 140  90 180 105 110 130  45 220  80 280  85 125 195  70\n",
      " 200 115  95 150 147 145 175 149  78  76 160  50 345 170  93  65 240 165\n",
      " 135 230 320  64  82  98  88 210 250  44 190  55 148  39  37 300 136 124\n",
      "  75 155   3 266 108 132 127  43 179 107 118 171  92 355 106  87  35  60\n",
      " 480 144 119 364 197 185 275 212 245  36 470 128  83 273 270 168 202 350\n",
      " 103 206 142 400 500 450 102 214 158  54 166  30   1 290  84 114  38 225\n",
      " 154 360  96  48 126  47 241   2 109 138 274 515 690 430 215 139  42 385\n",
      " 255 288 111 205 117 468 153 181 173  72 238 269 116  57  94 104 237 182\n",
      "  99 260 352 295 344 247 229  73 123  86 161 407 488 324 504  12  11  10\n",
      " 908  46 415 246 547 152   5 285 143  58 621 455  56 650  52 146 134  74\n",
      " 760 112  77 598 272 550 856 529 330   4  67 779  49  69  29 226 276  79\n",
      " 335 510 163 277 192  62 340  41  68 232 434 209 159 172 122 235  53 600\n",
      "  81 249 410 648 257 306 265 365 207  18 460 236  16 337  51  63 366 980\n",
      " 121  25 396 482  26  66  91 133 539 248  32 302 568 299 178 196 370 906\n",
      " 174 356 327  59 258 949 516 314 201 377 315 254 380 376 176 580  97 137\n",
      " 475 536 540 800 408 131 151 224 186 625 101 449 164 141 187  20 129 239\n",
      "  28 157 199 317 167  21 799 156 191 256 383 950 545  71 231 222 485 223\n",
      "  61 113 882 497 520 914 579 525 451 899 416 924 253 900 546 243 263 162\n",
      " 474   0 702 720 859   6  17 465  34 725 259  22 252 699 183 169 586 681\n",
      " 507 870  23 204 700 563 565 784 177 189 790 473 184 404 440 379 218 655\n",
      " 590 454  15 405 719 198 244 390 570 349 375 310 283 264 216 604 325 944\n",
      " 750 560 850 435 420 557 311 499 261 667 402 555 562 284 399 217 208 318\n",
      "  31 829 528 930 286  24  33 293 278 323 194 441 342 319 363 426 367 228\n",
      " 490 425 227 659   8 321 188 730 378 710 211  14 316 479 436 393 999 287\n",
      " 749 640 514 409 649 561 661 502 422 674 463]\n",
      "##############################\n",
      "Sütundaki benzersiz kaç adet değer bulunuyor :\n",
      "(443,)\n",
      "##############################\n",
      "Her bir değer kaç kez tekrarlıyor :\n",
      "metrekare\n",
      "100    1175\n",
      "90     1104\n",
      "120    1103\n",
      "110    1039\n",
      "130     942\n",
      "       ... \n",
      "525       1\n",
      "451       1\n",
      "899       1\n",
      "416       1\n",
      "463       1\n",
      "Name: count, Length: 443, dtype: int64\n"
     ]
    }
   ],
   "source": [
    "data_info(\"metrekare\")"
   ]
  },
  {
   "cell_type": "code",
   "execution_count": 34,
   "id": "56d14d20-4364-4b59-830b-2d6c8f91a26e",
   "metadata": {
    "scrolled": true
   },
   "outputs": [
    {
     "name": "stdout",
     "output_type": "stream",
     "text": [
      "Sütundaki benzersiz değerler :\n",
      "[ 4.  3.  6.  1. 12.  2. nan  8.  5. 14. 16. 17.  9.  7. 11. 10. 15. 13.\n",
      " 18. 21. 26. 19. 30. 22.]\n",
      "##############################\n",
      "Sütundaki benzersiz kaç adet değer bulunuyor :\n",
      "(24,)\n",
      "##############################\n",
      "Her bir değer kaç kez tekrarlıyor :\n",
      "Bulunduğu Kat\n",
      "1.0     4647\n",
      "2.0     3760\n",
      "3.0     3012\n",
      "4.0     1920\n",
      "5.0     1173\n",
      "6.0      573\n",
      "7.0      518\n",
      "8.0      257\n",
      "9.0      236\n",
      "10.0     172\n",
      "11.0     131\n",
      "12.0     104\n",
      "13.0      72\n",
      "14.0      60\n",
      "15.0      12\n",
      "18.0       6\n",
      "16.0       5\n",
      "17.0       5\n",
      "21.0       3\n",
      "26.0       1\n",
      "19.0       1\n",
      "30.0       1\n",
      "22.0       1\n",
      "Name: count, dtype: int64\n"
     ]
    }
   ],
   "source": [
    "data_info(\"Bulunduğu Kat\")"
   ]
  },
  {
   "cell_type": "code",
   "execution_count": 35,
   "id": "8c6a0a2b-8a0d-4b81-83c6-7fbd63880eac",
   "metadata": {
    "scrolled": true
   },
   "outputs": [
    {
     "name": "stdout",
     "output_type": "stream",
     "text": [
      "Sütundaki benzersiz değerler :\n",
      "[ 4.  3.  2.  5.  6. nan 11.  8.  7.  9. 10. 12.]\n",
      "##############################\n",
      "Sütundaki benzersiz kaç adet değer bulunuyor :\n",
      "(12,)\n",
      "##############################\n",
      "Her bir değer kaç kez tekrarlıyor :\n",
      "Oda Sayısı\n",
      "4.0     7995\n",
      "3.0     6340\n",
      "2.0     2251\n",
      "5.0     1940\n",
      "6.0      592\n",
      "7.0      245\n",
      "8.0      102\n",
      "9.0       50\n",
      "10.0      20\n",
      "11.0       5\n",
      "12.0       4\n",
      "Name: count, dtype: int64\n"
     ]
    }
   ],
   "source": [
    "data_info(\"Oda Sayısı\")"
   ]
  },
  {
   "cell_type": "code",
   "execution_count": 36,
   "id": "b4884e9f-6b97-4faa-96f7-460e8771eccd",
   "metadata": {
    "scrolled": true
   },
   "outputs": [
    {
     "name": "stdout",
     "output_type": "stream",
     "text": [
      "Sütundaki benzersiz değerler :\n",
      "['Konut']\n",
      "##############################\n",
      "Sütundaki benzersiz kaç adet değer bulunuyor :\n",
      "(1,)\n",
      "##############################\n",
      "Her bir değer kaç kez tekrarlıyor :\n",
      "Tür\n",
      "Konut    20326\n",
      "Name: count, dtype: int64\n"
     ]
    }
   ],
   "source": [
    "data_info(\"Tür\")"
   ]
  },
  {
   "cell_type": "code",
   "execution_count": 37,
   "id": "308d2ef4-fe74-4870-9973-c75b881a2ecc",
   "metadata": {
    "scrolled": true
   },
   "outputs": [
    {
     "name": "stdout",
     "output_type": "stream",
     "text": [
      "Sütundaki benzersiz değerler :\n",
      "['Kombi Doğalgaz' 'Klimalı' 'Merkezi (Pay Ölçer)' 'Sobalı' 'Isıtma Yok'\n",
      " 'Doğalgaz Sobalı' 'Yerden Isıtma' 'Güneş Enerjisi' 'Merkezi Doğalgaz'\n",
      " 'Kat Kaloriferi' 'Kombi Fueloil' 'Isı Pompası' 'Elektrikli Radyatör'\n",
      " 'Şömine' 'Jeotermal' 'Merkezi Kömür' 'Kombi Katı Yakıt' 'Kombi Kömür'\n",
      " 'Merkezi Fueloil' 'VRV' 'Fancoil Ünitesi']\n",
      "##############################\n",
      "Sütundaki benzersiz kaç adet değer bulunuyor :\n",
      "(21,)\n",
      "##############################\n",
      "Her bir değer kaç kez tekrarlıyor :\n",
      "Isıtma Tipi\n",
      "Kombi Doğalgaz         12029\n",
      "Yerden Isıtma           1820\n",
      "Klimalı                 1749\n",
      "Merkezi Doğalgaz        1600\n",
      "Sobalı                   854\n",
      "Merkezi (Pay Ölçer)      809\n",
      "Isıtma Yok               462\n",
      "Kat Kaloriferi           314\n",
      "Doğalgaz Sobalı          221\n",
      "Merkezi Kömür            126\n",
      "Jeotermal                109\n",
      "Güneş Enerjisi           101\n",
      "Isı Pompası               39\n",
      "Şömine                    39\n",
      "Kombi Fueloil             18\n",
      "Merkezi Fueloil            9\n",
      "Elektrikli Radyatör        8\n",
      "Kombi Kömür                6\n",
      "Kombi Katı Yakıt           5\n",
      "VRV                        4\n",
      "Fancoil Ünitesi            4\n",
      "Name: count, dtype: int64\n"
     ]
    }
   ],
   "source": [
    "data_info(\"Isıtma Tipi\")"
   ]
  },
  {
   "cell_type": "code",
   "execution_count": 38,
   "id": "25c40ce3-c01e-45e5-b4e8-f93768041dbb",
   "metadata": {
    "scrolled": true
   },
   "outputs": [
    {
     "name": "stdout",
     "output_type": "stream",
     "text": [
      "Sütundaki benzersiz değerler :\n",
      "[25.  4.  0.  7. 18.  3. nan 13.  1.]\n",
      "##############################\n",
      "Sütundaki benzersiz kaç adet değer bulunuyor :\n",
      "(9,)\n",
      "##############################\n",
      "Her bir değer kaç kez tekrarlıyor :\n",
      "Bina Yaş\n",
      "0.0     6238\n",
      "7.0     4517\n",
      "25.0    2559\n",
      "13.0    1982\n",
      "18.0    1489\n",
      "4.0     1342\n",
      "1.0      875\n",
      "3.0      708\n",
      "Name: count, dtype: int64\n"
     ]
    }
   ],
   "source": [
    "data_info(\"Bina Yaş\")"
   ]
  },
  {
   "cell_type": "code",
   "execution_count": null,
   "id": "110f32f6-d595-47c6-989c-2788e517e2e7",
   "metadata": {},
   "outputs": [],
   "source": []
  },
  {
   "cell_type": "code",
   "execution_count": null,
   "id": "51658b85-7267-445e-8dc0-2857efd0f616",
   "metadata": {},
   "outputs": [],
   "source": []
  }
 ],
 "metadata": {
  "kernelspec": {
   "display_name": "Python 3 (ipykernel)",
   "language": "python",
   "name": "python3"
  },
  "language_info": {
   "codemirror_mode": {
    "name": "ipython",
    "version": 3
   },
   "file_extension": ".py",
   "mimetype": "text/x-python",
   "name": "python",
   "nbconvert_exporter": "python",
   "pygments_lexer": "ipython3",
   "version": "3.12.1"
  }
 },
 "nbformat": 4,
 "nbformat_minor": 5
}
