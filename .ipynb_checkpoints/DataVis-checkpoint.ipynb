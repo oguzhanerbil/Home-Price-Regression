{
 "cells": [
  {
   "cell_type": "code",
   "execution_count": 1,
   "id": "4a7958b9-e4f1-47bc-a4cf-27314d53f710",
   "metadata": {},
   "outputs": [],
   "source": [
    "import pandas as pd\n",
    "import numpy as np\n",
    "from sklearn import preprocessing"
   ]
  },
  {
   "cell_type": "code",
   "execution_count": 2,
   "id": "e1316e2c-d4a1-49ff-82fc-4c62c6fcc8b3",
   "metadata": {},
   "outputs": [
    {
     "name": "stdout",
     "output_type": "stream",
     "text": [
      "CleanData.csv\t\tDataVis.ipynb\t\tLICENSE    TopluVeriler.csv\n",
      "CleanDataRegression.py\thomePriceRegression.py\tREADME.md\n"
     ]
    }
   ],
   "source": [
    "!ls"
   ]
  },
  {
   "cell_type": "code",
   "execution_count": 3,
   "id": "6cb4cb7e-a92d-4c66-b48d-9a16344aa43c",
   "metadata": {},
   "outputs": [],
   "source": [
    "metadata = pd.read_csv(\"CleanData.csv\")"
   ]
  },
  {
   "cell_type": "code",
   "execution_count": 5,
   "id": "692ad7d1-b2be-4a9a-8837-b2ecad67eb96",
   "metadata": {},
   "outputs": [
    {
     "data": {
      "text/plain": [
       "(20326, 9)"
      ]
     },
     "execution_count": 5,
     "metadata": {},
     "output_type": "execute_result"
    }
   ],
   "source": [
    "metadata.shape"
   ]
  },
  {
   "cell_type": "code",
   "execution_count": 8,
   "id": "7767ff38-0e18-439a-8943-500b3130ef83",
   "metadata": {},
   "outputs": [
    {
     "data": {
      "text/html": [
       "<div>\n",
       "<style scoped>\n",
       "    .dataframe tbody tr th:only-of-type {\n",
       "        vertical-align: middle;\n",
       "    }\n",
       "\n",
       "    .dataframe tbody tr th {\n",
       "        vertical-align: top;\n",
       "    }\n",
       "\n",
       "    .dataframe thead th {\n",
       "        text-align: right;\n",
       "    }\n",
       "</style>\n",
       "<table border=\"1\" class=\"dataframe\">\n",
       "  <thead>\n",
       "    <tr style=\"text-align: right;\">\n",
       "      <th></th>\n",
       "      <th>Unnamed: 0</th>\n",
       "      <th>fiyat</th>\n",
       "      <th>sehir</th>\n",
       "      <th>metrekare</th>\n",
       "      <th>Bulunduğu Kat</th>\n",
       "      <th>Oda Sayısı</th>\n",
       "      <th>Tür</th>\n",
       "      <th>Isıtma Tipi</th>\n",
       "      <th>Bina Yaş</th>\n",
       "    </tr>\n",
       "  </thead>\n",
       "  <tbody>\n",
       "    <tr>\n",
       "      <th>0</th>\n",
       "      <td>0</td>\n",
       "      <td>950000</td>\n",
       "      <td>adana</td>\n",
       "      <td>120</td>\n",
       "      <td>4.0</td>\n",
       "      <td>4.0</td>\n",
       "      <td>Konut</td>\n",
       "      <td>Kombi Doğalgaz</td>\n",
       "      <td>25.0</td>\n",
       "    </tr>\n",
       "    <tr>\n",
       "      <th>1</th>\n",
       "      <td>1</td>\n",
       "      <td>1250000</td>\n",
       "      <td>adana</td>\n",
       "      <td>100</td>\n",
       "      <td>3.0</td>\n",
       "      <td>4.0</td>\n",
       "      <td>Konut</td>\n",
       "      <td>Kombi Doğalgaz</td>\n",
       "      <td>4.0</td>\n",
       "    </tr>\n",
       "    <tr>\n",
       "      <th>2</th>\n",
       "      <td>2</td>\n",
       "      <td>1750000</td>\n",
       "      <td>adana</td>\n",
       "      <td>89</td>\n",
       "      <td>4.0</td>\n",
       "      <td>3.0</td>\n",
       "      <td>Konut</td>\n",
       "      <td>Kombi Doğalgaz</td>\n",
       "      <td>0.0</td>\n",
       "    </tr>\n",
       "    <tr>\n",
       "      <th>3</th>\n",
       "      <td>3</td>\n",
       "      <td>1300000</td>\n",
       "      <td>adana</td>\n",
       "      <td>40</td>\n",
       "      <td>6.0</td>\n",
       "      <td>2.0</td>\n",
       "      <td>Konut</td>\n",
       "      <td>Kombi Doğalgaz</td>\n",
       "      <td>0.0</td>\n",
       "    </tr>\n",
       "    <tr>\n",
       "      <th>4</th>\n",
       "      <td>4</td>\n",
       "      <td>1700000</td>\n",
       "      <td>adana</td>\n",
       "      <td>140</td>\n",
       "      <td>1.0</td>\n",
       "      <td>4.0</td>\n",
       "      <td>Konut</td>\n",
       "      <td>Klimalı</td>\n",
       "      <td>7.0</td>\n",
       "    </tr>\n",
       "  </tbody>\n",
       "</table>\n",
       "</div>"
      ],
      "text/plain": [
       "   Unnamed: 0    fiyat  sehir  metrekare  Bulunduğu Kat  Oda Sayısı    Tür  \\\n",
       "0           0   950000  adana        120            4.0         4.0  Konut   \n",
       "1           1  1250000  adana        100            3.0         4.0  Konut   \n",
       "2           2  1750000  adana         89            4.0         3.0  Konut   \n",
       "3           3  1300000  adana         40            6.0         2.0  Konut   \n",
       "4           4  1700000  adana        140            1.0         4.0  Konut   \n",
       "\n",
       "      Isıtma Tipi  Bina Yaş  \n",
       "0  Kombi Doğalgaz      25.0  \n",
       "1  Kombi Doğalgaz       4.0  \n",
       "2  Kombi Doğalgaz       0.0  \n",
       "3  Kombi Doğalgaz       0.0  \n",
       "4         Klimalı       7.0  "
      ]
     },
     "execution_count": 8,
     "metadata": {},
     "output_type": "execute_result"
    }
   ],
   "source": [
    "metadata.head()"
   ]
  },
  {
   "cell_type": "code",
   "execution_count": 7,
   "id": "e61616ec-4267-4b6f-b5f3-6a3a9830b31e",
   "metadata": {},
   "outputs": [],
   "source": [
    "df = pd.DataFrame(metadata)"
   ]
  },
  {
   "cell_type": "code",
   "execution_count": 9,
   "id": "b70fd3c7-1f5e-485a-b578-e2a5a80350f3",
   "metadata": {},
   "outputs": [],
   "source": [
    "uniq_sehir = df['sehir'].unique()"
   ]
  },
  {
   "cell_type": "code",
   "execution_count": 10,
   "id": "56d14d20-4364-4b59-830b-2d6c8f91a26e",
   "metadata": {},
   "outputs": [
    {
     "data": {
      "text/plain": [
       "(53,)"
      ]
     },
     "execution_count": 10,
     "metadata": {},
     "output_type": "execute_result"
    }
   ],
   "source": [
    "uniq_sehir.shape"
   ]
  },
  {
   "cell_type": "code",
   "execution_count": 20,
   "id": "8c6a0a2b-8a0d-4b81-83c6-7fbd63880eac",
   "metadata": {},
   "outputs": [
    {
     "name": "stdout",
     "output_type": "stream",
     "text": [
      "sehir\n",
      "antalya           1450\n",
      "adana             1449\n",
      "denizli           1449\n",
      "diyarbakir        1449\n",
      "gaziantep         1446\n",
      "kocaeli           1325\n",
      "canakkale          954\n",
      "eskisehir          947\n",
      "bursa              847\n",
      "kirklareli         659\n",
      "corum              640\n",
      "balikesir          545\n",
      "afyonkarahisar     507\n",
      "edirne             497\n",
      "giresun            484\n",
      "kayseri            478\n",
      "hatay              446\n",
      "izmir              385\n",
      "duzce              366\n",
      "elazig             358\n",
      "kilis              332\n",
      "batman             326\n",
      "bolu               325\n",
      "kahramanmaras      287\n",
      "isparta            250\n",
      "kars               215\n",
      "burdur             214\n",
      "amasya             208\n",
      "kirikkale          167\n",
      "bartin             146\n",
      "kastamonu          143\n",
      "erzurum            125\n",
      "karabuk            121\n",
      "adiyaman           116\n",
      "konya              107\n",
      "aksaray            106\n",
      "karaman            104\n",
      "bilecik             93\n",
      "aydin               59\n",
      "bayburt             46\n",
      "gumushane           31\n",
      "erzincan            29\n",
      "kirsehir            25\n",
      "cankiri             17\n",
      "igdir               12\n",
      "bitlis              10\n",
      "ardahan              8\n",
      "istanbul             8\n",
      "artvin               5\n",
      "bingol               4\n",
      "agri                 4\n",
      "ankara               1\n",
      "hakkari              1\n",
      "Name: count, dtype: int64\n"
     ]
    }
   ],
   "source": [
    "print(df['sehir'].value_counts()) # Her bir uniqe değer kaç kez tekrarlıyor ?"
   ]
  },
  {
   "cell_type": "code",
   "execution_count": 11,
   "id": "b4884e9f-6b97-4faa-96f7-460e8771eccd",
   "metadata": {},
   "outputs": [
    {
     "data": {
      "text/plain": [
       "array(['adana', 'adiyaman', 'afyonkarahisar', 'agri', 'aksaray', 'amasya',\n",
       "       'ankara', 'antalya', 'ardahan', 'artvin', 'aydin', 'balikesir',\n",
       "       'bartin', 'batman', 'bayburt', 'bilecik', 'bingol', 'bitlis',\n",
       "       'bolu', 'burdur', 'bursa', 'canakkale', 'cankiri', 'corum',\n",
       "       'denizli', 'diyarbakir', 'duzce', 'edirne', 'elazig', 'erzincan',\n",
       "       'erzurum', 'eskisehir', 'gaziantep', 'giresun', 'gumushane',\n",
       "       'hakkari', 'hatay', 'igdir', 'isparta', 'istanbul', 'izmir',\n",
       "       'kahramanmaras', 'karabuk', 'karaman', 'kars', 'kastamonu',\n",
       "       'kayseri', 'kilis', 'kirikkale', 'kirklareli', 'kirsehir',\n",
       "       'kocaeli', 'konya'], dtype=object)"
      ]
     },
     "execution_count": 11,
     "metadata": {},
     "output_type": "execute_result"
    }
   ],
   "source": [
    "uniq_sehir"
   ]
  },
  {
   "cell_type": "code",
   "execution_count": 14,
   "id": "308d2ef4-fe74-4870-9973-c75b881a2ecc",
   "metadata": {},
   "outputs": [
    {
     "data": {
      "text/plain": [
       "(443,)"
      ]
     },
     "execution_count": 14,
     "metadata": {},
     "output_type": "execute_result"
    }
   ],
   "source": [
    "uniq_m2 = df['metrekare'].unique()\n",
    "uniq_m2.shape"
   ]
  },
  {
   "cell_type": "code",
   "execution_count": 21,
   "id": "25c40ce3-c01e-45e5-b4e8-f93768041dbb",
   "metadata": {},
   "outputs": [
    {
     "name": "stdout",
     "output_type": "stream",
     "text": [
      "metrekare\n",
      "100    1175\n",
      "90     1104\n",
      "120    1103\n",
      "110    1039\n",
      "130     942\n",
      "       ... \n",
      "525       1\n",
      "451       1\n",
      "899       1\n",
      "416       1\n",
      "463       1\n",
      "Name: count, Length: 443, dtype: int64\n"
     ]
    }
   ],
   "source": [
    "print(df['metrekare'].value_counts())"
   ]
  },
  {
   "cell_type": "code",
   "execution_count": 15,
   "id": "364f95fa-f51e-4030-9da9-2101e150ce2c",
   "metadata": {},
   "outputs": [
    {
     "data": {
      "text/plain": [
       "(24,)"
      ]
     },
     "execution_count": 15,
     "metadata": {},
     "output_type": "execute_result"
    }
   ],
   "source": [
    "uniq_kat = df['Bulunduğu Kat'].unique()\n",
    "uniq_kat.shape"
   ]
  },
  {
   "cell_type": "code",
   "execution_count": 22,
   "id": "7c3e5d07-394c-4762-a88d-7a988cf3f390",
   "metadata": {},
   "outputs": [
    {
     "name": "stdout",
     "output_type": "stream",
     "text": [
      "Bulunduğu Kat\n",
      "1.0     4647\n",
      "2.0     3760\n",
      "3.0     3012\n",
      "4.0     1920\n",
      "5.0     1173\n",
      "6.0      573\n",
      "7.0      518\n",
      "8.0      257\n",
      "9.0      236\n",
      "10.0     172\n",
      "11.0     131\n",
      "12.0     104\n",
      "13.0      72\n",
      "14.0      60\n",
      "15.0      12\n",
      "18.0       6\n",
      "16.0       5\n",
      "17.0       5\n",
      "21.0       3\n",
      "26.0       1\n",
      "19.0       1\n",
      "30.0       1\n",
      "22.0       1\n",
      "Name: count, dtype: int64\n"
     ]
    }
   ],
   "source": [
    "print(df['Bulunduğu Kat'].value_counts())"
   ]
  },
  {
   "cell_type": "code",
   "execution_count": 16,
   "id": "f4b91114-29a8-4f69-bbac-0dedf2299172",
   "metadata": {},
   "outputs": [
    {
     "data": {
      "text/plain": [
       "(12,)"
      ]
     },
     "execution_count": 16,
     "metadata": {},
     "output_type": "execute_result"
    }
   ],
   "source": [
    "uniq_oda = df['Oda Sayısı'].unique()\n",
    "uniq_oda.shape"
   ]
  },
  {
   "cell_type": "code",
   "execution_count": null,
   "id": "eb4ceee2-ccd9-4438-abd6-66e8169801d6",
   "metadata": {},
   "outputs": [],
   "source": [
    "print(df['Oda Sayısı'].value_counts())"
   ]
  },
  {
   "cell_type": "code",
   "execution_count": 17,
   "id": "f2495da1-dab0-41e1-bef9-e28e6dc06713",
   "metadata": {},
   "outputs": [
    {
     "data": {
      "text/plain": [
       "(1,)"
      ]
     },
     "execution_count": 17,
     "metadata": {},
     "output_type": "execute_result"
    }
   ],
   "source": [
    "uniq_Tur = df['Tür'].unique()\n",
    "uniq_Tur.shape"
   ]
  },
  {
   "cell_type": "code",
   "execution_count": 18,
   "id": "202f242d-eb48-4ebf-a5c9-b6f64ef5d8b3",
   "metadata": {},
   "outputs": [
    {
     "data": {
      "text/plain": [
       "(21,)"
      ]
     },
     "execution_count": 18,
     "metadata": {},
     "output_type": "execute_result"
    }
   ],
   "source": [
    "uniq_isitma = df['Isıtma Tipi'].unique()\n",
    "uniq_isitma.shape"
   ]
  },
  {
   "cell_type": "code",
   "execution_count": 19,
   "id": "8b88f1a7-a76b-447c-9830-16e53a442ad6",
   "metadata": {},
   "outputs": [
    {
     "data": {
      "text/plain": [
       "(9,)"
      ]
     },
     "execution_count": 19,
     "metadata": {},
     "output_type": "execute_result"
    }
   ],
   "source": [
    "uniq_binayas = df['Bina Yaş'].unique()\n",
    "uniq_binayas.shape"
   ]
  },
  {
   "cell_type": "code",
   "execution_count": null,
   "id": "110f32f6-d595-47c6-989c-2788e517e2e7",
   "metadata": {},
   "outputs": [],
   "source": []
  }
 ],
 "metadata": {
  "kernelspec": {
   "display_name": "Python 3 (ipykernel)",
   "language": "python",
   "name": "python3"
  },
  "language_info": {
   "codemirror_mode": {
    "name": "ipython",
    "version": 3
   },
   "file_extension": ".py",
   "mimetype": "text/x-python",
   "name": "python",
   "nbconvert_exporter": "python",
   "pygments_lexer": "ipython3",
   "version": "3.12.1"
  }
 },
 "nbformat": 4,
 "nbformat_minor": 5
}
